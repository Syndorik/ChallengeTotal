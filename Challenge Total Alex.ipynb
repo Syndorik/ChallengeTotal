{
 "cells": [
  {
   "cell_type": "markdown",
   "metadata": {},
   "source": [
    "# Total challenge"
   ]
  },
  {
   "cell_type": "markdown",
   "metadata": {},
   "source": [
    "## Presentation of the challenge"
   ]
  },
  {
   "cell_type": "markdown",
   "metadata": {},
   "source": [
    "### Foreword"
   ]
  },
  {
   "cell_type": "markdown",
   "metadata": {},
   "source": [
    "This challenge is based on predicting the quantity to supply to convinience stores located on the highway. Indeed, the supply of product is quite expensive on the highways in France. Hence with this prediction, gas stations can be supplied with the right amount of products. This will avoid a waste of money and fresh product.  \n",
    "All the details can be found here (French): https://datascience.total.com/fr/challenge/9/details"
   ]
  },
  {
   "cell_type": "markdown",
   "metadata": {},
   "source": [
    "### Purpose of the challenge"
   ]
  },
  {
   "cell_type": "markdown",
   "metadata": {},
   "source": [
    "The purpose of this challenge is to predict the quantity sold of each product in a specific gas station (located on the highway between Paris and Rouen) . We are going to train our model(s) with the train dataset that was given to us. "
   ]
  },
  {
   "cell_type": "markdown",
   "metadata": {},
   "source": [
    "### Format of the answer"
   ]
  },
  {
   "cell_type": "markdown",
   "metadata": {},
   "source": [
    "The answer should be in a csv file, with semicolon as separators.  \n",
    "For each product from the \"test.csv\" file, we should return the id and the predicted quantity to supply. It should look like the table down below :\n",
    "\n",
    " id | quantite_vendue \n",
    " --- | --- \n",
    " c9976bb01629 |\t0,1234\n",
    "f731b8b590ff |\t0\n",
    "add0dce853b5 |\t1,2345"
   ]
  },
  {
   "cell_type": "markdown",
   "metadata": {},
   "source": [
    "###  <a name=\"eval_ans\"></a> Evaluation of the answer"
   ]
  },
  {
   "cell_type": "markdown",
   "metadata": {},
   "source": [
    "The metric used for to evaluate our answer is the RMSE :  \n",
    "$RMSE = \\sqrt{\\frac{1}{n} \\sum_{i=1}^{n}(y_i-\\hat{y_i})^2}$  \n",
    "Where $y_i$ is the quantity really sold, and $\\hat{y_i}$ is our prediction"
   ]
  },
  {
   "cell_type": "markdown",
   "metadata": {},
   "source": [
    "## Begining of the project"
   ]
  },
  {
   "cell_type": "markdown",
   "metadata": {},
   "source": [
    "This project is available on : https://datascience.total.com/fr/challenge/9/details"
   ]
  },
  {
   "cell_type": "markdown",
   "metadata": {},
   "source": [
    "### Ressources"
   ]
  },
  {
   "cell_type": "markdown",
   "metadata": {},
   "source": [
    "There are 3 files available on the website :\n",
    " - argedis.pdf : File giving some info about the client and how its products are categorised.\n",
    " - DicDataIMTARGEDIS.xlsx : Description of the variables\n",
    " - test.csv : The data set used to evaluate our model(s)\n",
    " - train.csv : The data set used to train our model(s)  \n",
    "We might use some open source data, related to the subject. They will be listed down below."
   ]
  },
  {
   "cell_type": "markdown",
   "metadata": {},
   "source": [
    "### Constraints"
   ]
  },
  {
   "cell_type": "markdown",
   "metadata": {},
   "source": [
    "- We can't communicate with the client. We only have the ressources available on the website, and the open source data. The client can't precise what he wants.  \n",
    "- We are automatically evaluated. We don't have any feedbacks on our models"
   ]
  },
  {
   "cell_type": "markdown",
   "metadata": {},
   "source": [
    "### Hypothesis"
   ]
  },
  {
   "cell_type": "markdown",
   "metadata": {},
   "source": [
    "The given data are correct."
   ]
  },
  {
   "cell_type": "markdown",
   "metadata": {},
   "source": [
    "### Objectives"
   ]
  },
  {
   "cell_type": "markdown",
   "metadata": {},
   "source": [
    "Create a model that will give us the minimal RMSE by product. Being able to explain why we chose a specific model."
   ]
  },
  {
   "cell_type": "markdown",
   "metadata": {},
   "source": [
    "### Success"
   ]
  },
  {
   "cell_type": "markdown",
   "metadata": {},
   "source": [
    "Our success will be measured with the RMSE metric as explained on [Evaluation of the answer](#eval_ans)"
   ]
  },
  {
   "cell_type": "markdown",
   "metadata": {},
   "source": [
    "## Planning of the project\n",
    "We're going to work on Python 3 with the following libraries : \n",
    "* Pandas, numpy for data analysis\n",
    "* Matplotlib/ seaborn for data vizualisation\n",
    "* Scikit learn for the models\n",
    "* Jupyter Notebook to developp our python script\n",
    "\n",
    "First we're gonna clean the data. Check the missing values, replace according to some functions. Drop columns that have too many missing values"
   ]
  },
  {
   "cell_type": "markdown",
   "metadata": {},
   "source": [
    "## Overlook of the data\n",
    "We're gonna see in this party what are the data, and analyse them"
   ]
  },
  {
   "cell_type": "code",
   "execution_count": 16,
   "metadata": {},
   "outputs": [],
   "source": [
    "import pandas as pd\n",
    "import numpy as np"
   ]
  },
  {
   "cell_type": "code",
   "execution_count": 82,
   "metadata": {},
   "outputs": [],
   "source": [
    "import matplotlib.pyplot as plt\n",
    "%matplotlib inline"
   ]
  },
  {
   "cell_type": "code",
   "execution_count": 25,
   "metadata": {},
   "outputs": [],
   "source": [
    "pd.options.display.max_columns = 40\n",
    "pd.options.display.max_rows = 40"
   ]
  },
  {
   "cell_type": "code",
   "execution_count": 27,
   "metadata": {},
   "outputs": [],
   "source": [
    "train_df = pd.read_csv(\"train.csv\", sep= \";\")"
   ]
  },
  {
   "cell_type": "code",
   "execution_count": 28,
   "metadata": {
    "scrolled": false
   },
   "outputs": [
    {
     "data": {
      "text/html": [
       "<div>\n",
       "<style scoped>\n",
       "    .dataframe tbody tr th:only-of-type {\n",
       "        vertical-align: middle;\n",
       "    }\n",
       "\n",
       "    .dataframe tbody tr th {\n",
       "        vertical-align: top;\n",
       "    }\n",
       "\n",
       "    .dataframe thead th {\n",
       "        text-align: right;\n",
       "    }\n",
       "</style>\n",
       "<table border=\"1\" class=\"dataframe\">\n",
       "  <thead>\n",
       "    <tr style=\"text-align: right;\">\n",
       "      <th></th>\n",
       "      <th>id</th>\n",
       "      <th>implant</th>\n",
       "      <th>date</th>\n",
       "      <th>article_nom</th>\n",
       "      <th>id_categorie_6</th>\n",
       "      <th>qte_article_vendue</th>\n",
       "      <th>id_categorie_5</th>\n",
       "      <th>id_categorie_4</th>\n",
       "      <th>cat6_nom</th>\n",
       "      <th>cat5_nom</th>\n",
       "      <th>cat4_nom</th>\n",
       "      <th>t_9h_rouen</th>\n",
       "      <th>n_9h_rouen</th>\n",
       "      <th>rr3_9h_rouen</th>\n",
       "      <th>ff_9h_rouen</th>\n",
       "      <th>t_15h_rouen</th>\n",
       "      <th>n_15h_rouen</th>\n",
       "      <th>rr3_15h_rouen</th>\n",
       "      <th>ff_15h_rouen</th>\n",
       "      <th>t_9h_paris</th>\n",
       "      <th>n_9h_paris</th>\n",
       "      <th>rr3_9h_paris</th>\n",
       "      <th>ff_9h_paris</th>\n",
       "      <th>t_15h_paris</th>\n",
       "      <th>n_15h_paris</th>\n",
       "      <th>rr3_15h_paris</th>\n",
       "      <th>ff_15h_paris</th>\n",
       "      <th>aller_zone_1</th>\n",
       "      <th>aller_zone_2</th>\n",
       "      <th>aller_zone_3</th>\n",
       "      <th>aller_zone_4</th>\n",
       "      <th>aller_zone_5</th>\n",
       "      <th>aller_zone_6</th>\n",
       "      <th>retour_zone_1</th>\n",
       "      <th>retour_zone_2</th>\n",
       "      <th>retour_zone_3</th>\n",
       "      <th>retour_zone_4</th>\n",
       "      <th>retour_zone_5</th>\n",
       "      <th>retour_zone_6</th>\n",
       "    </tr>\n",
       "  </thead>\n",
       "  <tbody>\n",
       "    <tr>\n",
       "      <th>0</th>\n",
       "      <td>39fc404102d5</td>\n",
       "      <td>NF059473</td>\n",
       "      <td>2016-01-01</td>\n",
       "      <td>Cookie Cara Noix Pecan 70G Michel Augustin</td>\n",
       "      <td>1001672</td>\n",
       "      <td>0,56</td>\n",
       "      <td>1001664</td>\n",
       "      <td>1001639</td>\n",
       "      <td>Patiss PréEmballé</td>\n",
       "      <td>Patisserie</td>\n",
       "      <td>Boulan Vienn Patiss</td>\n",
       "      <td>278,25</td>\n",
       "      <td>100,0</td>\n",
       "      <td>0,2</td>\n",
       "      <td>4,0</td>\n",
       "      <td>280,05</td>\n",
       "      <td>100,0</td>\n",
       "      <td>0,0</td>\n",
       "      <td>7,6</td>\n",
       "      <td>278,05</td>\n",
       "      <td>101,0</td>\n",
       "      <td>0,0</td>\n",
       "      <td>2,5</td>\n",
       "      <td>280,55</td>\n",
       "      <td>100,0</td>\n",
       "      <td>0,0</td>\n",
       "      <td>3,2</td>\n",
       "      <td>0</td>\n",
       "      <td>0</td>\n",
       "      <td>0</td>\n",
       "      <td>0</td>\n",
       "      <td>0</td>\n",
       "      <td>0</td>\n",
       "      <td>0</td>\n",
       "      <td>0</td>\n",
       "      <td>0</td>\n",
       "      <td>0</td>\n",
       "      <td>0</td>\n",
       "      <td>0</td>\n",
       "    </tr>\n",
       "    <tr>\n",
       "      <th>1</th>\n",
       "      <td>aa697ce32b43</td>\n",
       "      <td>NF059473</td>\n",
       "      <td>2016-01-01</td>\n",
       "      <td>Cookie Choc Blc 70G Michel Augustin</td>\n",
       "      <td>1001672</td>\n",
       "      <td>1,11</td>\n",
       "      <td>1001664</td>\n",
       "      <td>1001639</td>\n",
       "      <td>Patiss PréEmballé</td>\n",
       "      <td>Patisserie</td>\n",
       "      <td>Boulan Vienn Patiss</td>\n",
       "      <td>278,25</td>\n",
       "      <td>100,0</td>\n",
       "      <td>0,2</td>\n",
       "      <td>4,0</td>\n",
       "      <td>280,05</td>\n",
       "      <td>100,0</td>\n",
       "      <td>0,0</td>\n",
       "      <td>7,6</td>\n",
       "      <td>278,05</td>\n",
       "      <td>101,0</td>\n",
       "      <td>0,0</td>\n",
       "      <td>2,5</td>\n",
       "      <td>280,55</td>\n",
       "      <td>100,0</td>\n",
       "      <td>0,0</td>\n",
       "      <td>3,2</td>\n",
       "      <td>0</td>\n",
       "      <td>0</td>\n",
       "      <td>0</td>\n",
       "      <td>0</td>\n",
       "      <td>0</td>\n",
       "      <td>0</td>\n",
       "      <td>0</td>\n",
       "      <td>0</td>\n",
       "      <td>0</td>\n",
       "      <td>0</td>\n",
       "      <td>0</td>\n",
       "      <td>0</td>\n",
       "    </tr>\n",
       "    <tr>\n",
       "      <th>2</th>\n",
       "      <td>291a469e1b50</td>\n",
       "      <td>NF059473</td>\n",
       "      <td>2016-01-01</td>\n",
       "      <td>Cookie Choc Nois 70G Michel Augustin</td>\n",
       "      <td>1001672</td>\n",
       "      <td>0,56</td>\n",
       "      <td>1001664</td>\n",
       "      <td>1001639</td>\n",
       "      <td>Patiss PréEmballé</td>\n",
       "      <td>Patisserie</td>\n",
       "      <td>Boulan Vienn Patiss</td>\n",
       "      <td>278,25</td>\n",
       "      <td>100,0</td>\n",
       "      <td>0,2</td>\n",
       "      <td>4,0</td>\n",
       "      <td>280,05</td>\n",
       "      <td>100,0</td>\n",
       "      <td>0,0</td>\n",
       "      <td>7,6</td>\n",
       "      <td>278,05</td>\n",
       "      <td>101,0</td>\n",
       "      <td>0,0</td>\n",
       "      <td>2,5</td>\n",
       "      <td>280,55</td>\n",
       "      <td>100,0</td>\n",
       "      <td>0,0</td>\n",
       "      <td>3,2</td>\n",
       "      <td>0</td>\n",
       "      <td>0</td>\n",
       "      <td>0</td>\n",
       "      <td>0</td>\n",
       "      <td>0</td>\n",
       "      <td>0</td>\n",
       "      <td>0</td>\n",
       "      <td>0</td>\n",
       "      <td>0</td>\n",
       "      <td>0</td>\n",
       "      <td>0</td>\n",
       "      <td>0</td>\n",
       "    </tr>\n",
       "    <tr>\n",
       "      <th>3</th>\n",
       "      <td>2dbc07dbc8f0</td>\n",
       "      <td>NF059473</td>\n",
       "      <td>2016-01-01</td>\n",
       "      <td>Cookie Choco 70G Michel Augustin</td>\n",
       "      <td>1001672</td>\n",
       "      <td>0,56</td>\n",
       "      <td>1001664</td>\n",
       "      <td>1001639</td>\n",
       "      <td>Patiss PréEmballé</td>\n",
       "      <td>Patisserie</td>\n",
       "      <td>Boulan Vienn Patiss</td>\n",
       "      <td>278,25</td>\n",
       "      <td>100,0</td>\n",
       "      <td>0,2</td>\n",
       "      <td>4,0</td>\n",
       "      <td>280,05</td>\n",
       "      <td>100,0</td>\n",
       "      <td>0,0</td>\n",
       "      <td>7,6</td>\n",
       "      <td>278,05</td>\n",
       "      <td>101,0</td>\n",
       "      <td>0,0</td>\n",
       "      <td>2,5</td>\n",
       "      <td>280,55</td>\n",
       "      <td>100,0</td>\n",
       "      <td>0,0</td>\n",
       "      <td>3,2</td>\n",
       "      <td>0</td>\n",
       "      <td>0</td>\n",
       "      <td>0</td>\n",
       "      <td>0</td>\n",
       "      <td>0</td>\n",
       "      <td>0</td>\n",
       "      <td>0</td>\n",
       "      <td>0</td>\n",
       "      <td>0</td>\n",
       "      <td>0</td>\n",
       "      <td>0</td>\n",
       "      <td>0</td>\n",
       "    </tr>\n",
       "    <tr>\n",
       "      <th>4</th>\n",
       "      <td>e664714361d6</td>\n",
       "      <td>NF059473</td>\n",
       "      <td>2016-01-01</td>\n",
       "      <td>Croissant 60G Cuit/Place Neuhauser</td>\n",
       "      <td>1001674</td>\n",
       "      <td>4,08</td>\n",
       "      <td>1001665</td>\n",
       "      <td>1001639</td>\n",
       "      <td>Vienn cuit/place</td>\n",
       "      <td>Viennoiserie</td>\n",
       "      <td>Boulan Vienn Patiss</td>\n",
       "      <td>278,25</td>\n",
       "      <td>100,0</td>\n",
       "      <td>0,2</td>\n",
       "      <td>4,0</td>\n",
       "      <td>280,05</td>\n",
       "      <td>100,0</td>\n",
       "      <td>0,0</td>\n",
       "      <td>7,6</td>\n",
       "      <td>278,05</td>\n",
       "      <td>101,0</td>\n",
       "      <td>0,0</td>\n",
       "      <td>2,5</td>\n",
       "      <td>280,55</td>\n",
       "      <td>100,0</td>\n",
       "      <td>0,0</td>\n",
       "      <td>3,2</td>\n",
       "      <td>0</td>\n",
       "      <td>0</td>\n",
       "      <td>0</td>\n",
       "      <td>0</td>\n",
       "      <td>0</td>\n",
       "      <td>0</td>\n",
       "      <td>0</td>\n",
       "      <td>0</td>\n",
       "      <td>0</td>\n",
       "      <td>0</td>\n",
       "      <td>0</td>\n",
       "      <td>0</td>\n",
       "    </tr>\n",
       "  </tbody>\n",
       "</table>\n",
       "</div>"
      ],
      "text/plain": [
       "             id   implant        date  \\\n",
       "0  39fc404102d5  NF059473  2016-01-01   \n",
       "1  aa697ce32b43  NF059473  2016-01-01   \n",
       "2  291a469e1b50  NF059473  2016-01-01   \n",
       "3  2dbc07dbc8f0  NF059473  2016-01-01   \n",
       "4  e664714361d6  NF059473  2016-01-01   \n",
       "\n",
       "                                  article_nom  id_categorie_6  \\\n",
       "0  Cookie Cara Noix Pecan 70G Michel Augustin         1001672   \n",
       "1         Cookie Choc Blc 70G Michel Augustin         1001672   \n",
       "2        Cookie Choc Nois 70G Michel Augustin         1001672   \n",
       "3            Cookie Choco 70G Michel Augustin         1001672   \n",
       "4          Croissant 60G Cuit/Place Neuhauser         1001674   \n",
       "\n",
       "  qte_article_vendue  id_categorie_5  id_categorie_4           cat6_nom  \\\n",
       "0               0,56         1001664         1001639  Patiss PréEmballé   \n",
       "1               1,11         1001664         1001639  Patiss PréEmballé   \n",
       "2               0,56         1001664         1001639  Patiss PréEmballé   \n",
       "3               0,56         1001664         1001639  Patiss PréEmballé   \n",
       "4               4,08         1001665         1001639   Vienn cuit/place   \n",
       "\n",
       "       cat5_nom             cat4_nom t_9h_rouen n_9h_rouen rr3_9h_rouen  \\\n",
       "0    Patisserie  Boulan Vienn Patiss     278,25      100,0          0,2   \n",
       "1    Patisserie  Boulan Vienn Patiss     278,25      100,0          0,2   \n",
       "2    Patisserie  Boulan Vienn Patiss     278,25      100,0          0,2   \n",
       "3    Patisserie  Boulan Vienn Patiss     278,25      100,0          0,2   \n",
       "4  Viennoiserie  Boulan Vienn Patiss     278,25      100,0          0,2   \n",
       "\n",
       "  ff_9h_rouen t_15h_rouen n_15h_rouen rr3_15h_rouen ff_15h_rouen t_9h_paris  \\\n",
       "0         4,0      280,05       100,0           0,0          7,6     278,05   \n",
       "1         4,0      280,05       100,0           0,0          7,6     278,05   \n",
       "2         4,0      280,05       100,0           0,0          7,6     278,05   \n",
       "3         4,0      280,05       100,0           0,0          7,6     278,05   \n",
       "4         4,0      280,05       100,0           0,0          7,6     278,05   \n",
       "\n",
       "  n_9h_paris rr3_9h_paris ff_9h_paris t_15h_paris n_15h_paris rr3_15h_paris  \\\n",
       "0      101,0          0,0         2,5      280,55       100,0           0,0   \n",
       "1      101,0          0,0         2,5      280,55       100,0           0,0   \n",
       "2      101,0          0,0         2,5      280,55       100,0           0,0   \n",
       "3      101,0          0,0         2,5      280,55       100,0           0,0   \n",
       "4      101,0          0,0         2,5      280,55       100,0           0,0   \n",
       "\n",
       "  ff_15h_paris  aller_zone_1  aller_zone_2  aller_zone_3  aller_zone_4  \\\n",
       "0          3,2             0             0             0             0   \n",
       "1          3,2             0             0             0             0   \n",
       "2          3,2             0             0             0             0   \n",
       "3          3,2             0             0             0             0   \n",
       "4          3,2             0             0             0             0   \n",
       "\n",
       "   aller_zone_5  aller_zone_6  retour_zone_1  retour_zone_2  retour_zone_3  \\\n",
       "0             0             0              0              0              0   \n",
       "1             0             0              0              0              0   \n",
       "2             0             0              0              0              0   \n",
       "3             0             0              0              0              0   \n",
       "4             0             0              0              0              0   \n",
       "\n",
       "   retour_zone_4  retour_zone_5  retour_zone_6  \n",
       "0              0              0              0  \n",
       "1              0              0              0  \n",
       "2              0              0              0  \n",
       "3              0              0              0  \n",
       "4              0              0              0  "
      ]
     },
     "execution_count": 28,
     "metadata": {},
     "output_type": "execute_result"
    }
   ],
   "source": [
    "train_df.head(5)"
   ]
  },
  {
   "cell_type": "code",
   "execution_count": 169,
   "metadata": {
    "scrolled": true
   },
   "outputs": [
    {
     "name": "stdout",
     "output_type": "stream",
     "text": [
      "<class 'pandas.core.frame.DataFrame'>\n",
      "RangeIndex: 198288 entries, 0 to 198287\n",
      "Data columns (total 39 columns):\n",
      "id                    198288 non-null object\n",
      "implant               198288 non-null object\n",
      "date                  198288 non-null object\n",
      "article_nom           198288 non-null object\n",
      "id_categorie_6        198288 non-null int64\n",
      "qte_article_vendue    198288 non-null object\n",
      "id_categorie_5        198288 non-null int64\n",
      "id_categorie_4        198288 non-null int64\n",
      "cat6_nom              198288 non-null object\n",
      "cat5_nom              198288 non-null object\n",
      "cat4_nom              198288 non-null object\n",
      "t_9h_rouen            198288 non-null object\n",
      "n_9h_rouen            198288 non-null object\n",
      "rr3_9h_rouen          198288 non-null object\n",
      "ff_9h_rouen           198288 non-null object\n",
      "t_15h_rouen           198288 non-null object\n",
      "n_15h_rouen           198288 non-null object\n",
      "rr3_15h_rouen         198288 non-null object\n",
      "ff_15h_rouen          198288 non-null object\n",
      "t_9h_paris            198288 non-null object\n",
      "n_9h_paris            198288 non-null object\n",
      "rr3_9h_paris          198288 non-null object\n",
      "ff_9h_paris           198288 non-null object\n",
      "t_15h_paris           198288 non-null object\n",
      "n_15h_paris           198288 non-null object\n",
      "rr3_15h_paris         198288 non-null object\n",
      "ff_15h_paris          198288 non-null object\n",
      "aller_zone_1          198288 non-null int64\n",
      "aller_zone_2          198288 non-null int64\n",
      "aller_zone_3          198288 non-null int64\n",
      "aller_zone_4          198288 non-null int64\n",
      "aller_zone_5          198288 non-null int64\n",
      "aller_zone_6          198288 non-null int64\n",
      "retour_zone_1         198288 non-null int64\n",
      "retour_zone_2         198288 non-null int64\n",
      "retour_zone_3         198288 non-null int64\n",
      "retour_zone_4         198288 non-null int64\n",
      "retour_zone_5         198288 non-null int64\n",
      "retour_zone_6         198288 non-null int64\n",
      "dtypes: int64(15), object(24)\n",
      "memory usage: 59.0+ MB\n"
     ]
    }
   ],
   "source": [
    "train_df.info()"
   ]
  },
  {
   "cell_type": "markdown",
   "metadata": {},
   "source": [
    "#### First look of the data"
   ]
  },
  {
   "cell_type": "code",
   "execution_count": 30,
   "metadata": {},
   "outputs": [],
   "source": [
    "uu = pd.read_csv(\"train.csv\",sep=\";\")"
   ]
  },
  {
   "cell_type": "markdown",
   "metadata": {},
   "source": [
    "Here we're trying to see what are the maximum value of the \"nebulosité\" serie."
   ]
  },
  {
   "cell_type": "code",
   "execution_count": 38,
   "metadata": {},
   "outputs": [],
   "source": [
    "uu[\"n_9h_rouen\"] = uu[\"n_9h_rouen\"].apply(lambda var: var.replace(\",\",\".\"))"
   ]
  },
  {
   "cell_type": "code",
   "execution_count": 40,
   "metadata": {},
   "outputs": [],
   "source": [
    "uu[\"n_9h_rouen\"] = pd.to_numeric(uu[\"n_9h_rouen\"])"
   ]
  },
  {
   "cell_type": "code",
   "execution_count": 41,
   "metadata": {},
   "outputs": [
    {
     "data": {
      "text/plain": [
       "101.0"
      ]
     },
     "execution_count": 41,
     "metadata": {},
     "output_type": "execute_result"
    }
   ],
   "source": [
    "uu[\"n_9h_rouen\"].max()"
   ]
  },
  {
   "cell_type": "markdown",
   "metadata": {},
   "source": [
    "We can see that the \"nébulosité\" field has a maximum value of 101. However it's supposed to be a percentage of lighting. This might be a wrong value. WTF"
   ]
  },
  {
   "cell_type": "code",
   "execution_count": 53,
   "metadata": {},
   "outputs": [
    {
     "data": {
      "text/plain": [
       "101.0    11832\n",
       "Name: n_9h_rouen, dtype: int64"
      ]
     },
     "execution_count": 53,
     "metadata": {},
     "output_type": "execute_result"
    }
   ],
   "source": [
    "uu[uu[\"n_9h_rouen\"] == uu[\"n_9h_rouen\"].max()][\"n_9h_rouen\"].value_counts()"
   ]
  },
  {
   "cell_type": "markdown",
   "metadata": {},
   "source": [
    "#### Print of the n_9h_rouen distribution"
   ]
  },
  {
   "cell_type": "code",
   "execution_count": 144,
   "metadata": {},
   "outputs": [
    {
     "data": {
      "image/png": "[encoded data removed]",
      "text/plain": [
       "<Figure size 720x720 with 1 Axes>"
      ]
     },
     "metadata": {
      "needs_background": "light"
     },
     "output_type": "display_data"
    }
   ],
   "source": [
    "fig = plt.figure(figsize=(10,10))\n",
    "axes = fig.add_axes([0 , 0 , 1 ,1])\n",
    "plt.xticks(fontsize = 18)\n",
    "plt.yticks(fontsize = 18)\n",
    "uu[\"n_9h_rouen\"].hist(bins = 102,\n",
    "                      grid = False,\n",
    "                      edgecolor = \"black\")\n",
    "axes.set_xlabel(\"Nebulosité value\", fontsize=28)\n",
    "axes.set_ylabel(\"Number of occurences\",  fontsize=28)\n",
    "\n",
    "# Adding labels to the bars\n",
    "rects = axes.patches\n",
    "# Make some labels.\n",
    "labels = sorted([k for k in uu[\"n_9h_rouen\"].value_counts().index.tolist()])\n",
    "\n",
    "rects2 = []\n",
    "\n",
    "for rect in rects:\n",
    "    if(rect.get_height() != 0):\n",
    "       rects2.append(rect)\n",
    "\n",
    "\n",
    "for rect, label in zip(rects2, labels):\n",
    "    height = rect.get_height()\n",
    "    axes.text(rect.get_x() + rect.get_width() / 2, height + 5, label,\n",
    "            ha='center', va='bottom', fontsize = 18)"
   ]
  },
  {
   "cell_type": "markdown",
   "metadata": {},
   "source": [
    "The 101 value must be an error. It might be 100, or a 0 value."
   ]
  },
  {
   "cell_type": "markdown",
   "metadata": {},
   "source": [
    "#### Id of the two gas stations"
   ]
  },
  {
   "cell_type": "code",
   "execution_count": 146,
   "metadata": {},
   "outputs": [
    {
     "data": {
      "text/plain": [
       "NF059473    99144\n",
       "NF078544    99144\n",
       "Name: implant, dtype: int64"
      ]
     },
     "execution_count": 146,
     "metadata": {},
     "output_type": "execute_result"
    }
   ],
   "source": [
    "train_df[\"implant\"].value_counts()"
   ]
  },
  {
   "cell_type": "markdown",
   "metadata": {},
   "source": [
    "We can see that : \n",
    "- NF059473 --> Rouen's gas station\n",
    "- NF078544 --> Paris' gas station"
   ]
  },
  {
   "cell_type": "markdown",
   "metadata": {},
   "source": [
    "#### Id categorie_6 : meaning"
   ]
  },
  {
   "cell_type": "code",
   "execution_count": 154,
   "metadata": {},
   "outputs": [
    {
     "data": {
      "text/plain": [
       "Int64Index([1001770, 1001762, 1001767, 1001781, 1001785, 1001773, 1001790,\n",
       "            1001771, 1001672, 1001760, 1001794, 1001791, 1001793, 1001786,\n",
       "            1001768, 1001761, 1001766, 1001669, 1001764, 1001676, 1001674,\n",
       "            1001763],\n",
       "           dtype='int64')"
      ]
     },
     "execution_count": 154,
     "metadata": {},
     "output_type": "execute_result"
    }
   ],
   "source": [
    "train_df[\"id_categorie_6\"].value_counts().index"
   ]
  },
  {
   "cell_type": "code",
   "execution_count": 157,
   "metadata": {},
   "outputs": [
    {
     "data": {
      "text/plain": [
       "Yaourts à Boire    32076\n",
       "Name: cat6_nom, dtype: int64"
      ]
     },
     "execution_count": 157,
     "metadata": {},
     "output_type": "execute_result"
    }
   ],
   "source": [
    "train_df[train_df[\"id_categorie_6\"] == 1001770][\"cat6_nom\"].value_counts()"
   ]
  },
  {
   "cell_type": "code",
   "execution_count": 159,
   "metadata": {},
   "outputs": [
    {
     "data": {
      "text/plain": [
       "id_categorie_6  cat6_nom               \n",
       "1001669         Boul PréEmballée            2916\n",
       "1001672         Patiss PréEmballé          11664\n",
       "1001674         Vienn cuit/place            1944\n",
       "1001676         Vienn PréEmballée           1944\n",
       "1001760         Jambon                      9720\n",
       "1001761         Paté - Terrine              3888\n",
       "1001762         Saussisson                 19440\n",
       "1001763         Autre Charcuterie            972\n",
       "1001764         Beurre Margarine            1944\n",
       "1001766         Desserts Crémerie           2916\n",
       "1001767         Fromages                   15552\n",
       "1001768         Lait Frais                  3888\n",
       "1001770         Yaourts à Boire            32076\n",
       "1001771         Yaourt From Blanc          11664\n",
       "1001773         Fruits Barquette           13608\n",
       "1001781         Plat Prép, Traiteur 10%    14580\n",
       "1001785         Sand Ind Gd Bag            14580\n",
       "1001786         Sand Ind Min Bag            3888\n",
       "1001790         Sand Ind Tri Class         13608\n",
       "1001791         Sand Ind Tri Gourm          5832\n",
       "1001793         Sand Ind Tri XXL            4860\n",
       "1001794         Autr Sand Ind               6804\n",
       "Name: cat6_nom, dtype: int64"
      ]
     },
     "execution_count": 159,
     "metadata": {},
     "output_type": "execute_result"
    }
   ],
   "source": [
    "train_df.groupby('id_categorie_6')['cat6_nom'].value_counts()"
   ]
  },
  {
   "cell_type": "markdown",
   "metadata": {},
   "source": [
    "#### id_categorie_5 : meaning"
   ]
  },
  {
   "cell_type": "code",
   "execution_count": 161,
   "metadata": {},
   "outputs": [
    {
     "data": {
      "text/plain": [
       "id_categorie_5  cat5_nom             \n",
       "1001663         Boulangerie               2916\n",
       "1001664         Patisserie               11664\n",
       "1001665         Viennoiserie              3888\n",
       "1001705         Jambon                    9720\n",
       "1001706         Paté - Terrine            3888\n",
       "1001707         Saucisson                19440\n",
       "1001708         Autre Charcuterie          972\n",
       "1001709         Beurre et margarine       1944\n",
       "1001711         Desserts Crémerie         2916\n",
       "1001712         Fromages                 15552\n",
       "1001713         Lait Frais                3888\n",
       "1001715         Yaourts à boire          32076\n",
       "1001716         Yaourt Fromage Blanc     11664\n",
       "1001718         Fruits Barquette         13608\n",
       "1001726         Plats Prép Traiteur      14580\n",
       "1001730         Sandw Ind Gd Baguette    14580\n",
       "1001731         Sand Ind Min Baguette     3888\n",
       "1001735         Triangle Classi/Simpl    13608\n",
       "1001736         Triangle Gourm/Extra      5832\n",
       "1001738         Sand Triangles XXL        4860\n",
       "1001739         Autr Sandwich Indus       6804\n",
       "Name: cat5_nom, dtype: int64"
      ]
     },
     "execution_count": 161,
     "metadata": {},
     "output_type": "execute_result"
    }
   ],
   "source": [
    "train_df.groupby('id_categorie_5')['cat5_nom'].value_counts()"
   ]
  },
  {
   "cell_type": "markdown",
   "metadata": {},
   "source": [
    "#### id_categorie_4 "
   ]
  },
  {
   "cell_type": "code",
   "execution_count": 165,
   "metadata": {},
   "outputs": [
    {
     "data": {
      "text/plain": [
       "id_categorie_4  cat4_nom           \n",
       "1001639         Boulan Vienn Patiss    18468\n",
       "1001683         Charcuterie            34020\n",
       "1001684         Crémerie               68040\n",
       "1001685         Fruits et Légumes      13608\n",
       "1001687         Traiteur               14580\n",
       "1001688         Baguettes              18468\n",
       "1001691         Triangles              24300\n",
       "1001692         Autr Sandwich Indus     6804\n",
       "Name: cat4_nom, dtype: int64"
      ]
     },
     "execution_count": 165,
     "metadata": {},
     "output_type": "execute_result"
    }
   ],
   "source": [
    "train_df.groupby('id_categorie_4')['cat4_nom'].value_counts()"
   ]
  },
  {
   "cell_type": "markdown",
   "metadata": {},
   "source": [
    "Based on these observations :\n",
    "- We can see that to each category id, there's a unique name. This mean that the two columns have the same values.\n",
    "- Category 4 is more coarse-grained, and Category 6 is more fine-grained\n",
    "\n",
    "Organisation of the categories :  \n",
    "- Category 4 \n",
    "  - Category 5 \n",
    "    - Category 6\n",
    "      - Item to sell"
   ]
  },
  {
   "cell_type": "markdown",
   "metadata": {},
   "source": [
    "#### Zone Bison Futé (traffic circulation in France) "
   ]
  },
  {
   "cell_type": "markdown",
   "metadata": {},
   "source": [
    "All the info about how France is splited into 6 pieces is available on :  \n",
    "> https://www.bison-fute.gouv.fr/IMG/pdf/17237_Calendrier_Bison-Fute_2018_Web.pdf\n",
    "\n",
    " ![](bisonfute.png)"
   ]
  },
  {
   "cell_type": "markdown",
   "metadata": {},
   "source": [
    "### Description of the data"
   ]
  },
  {
   "cell_type": "code",
   "execution_count": 145,
   "metadata": {
    "scrolled": true
   },
   "outputs": [
    {
     "data": {
      "text/html": [
       "<div>\n",
       "<style scoped>\n",
       "    .dataframe tbody tr th:only-of-type {\n",
       "        vertical-align: middle;\n",
       "    }\n",
       "\n",
       "    .dataframe tbody tr th {\n",
       "        vertical-align: top;\n",
       "    }\n",
       "\n",
       "    .dataframe thead th {\n",
       "        text-align: right;\n",
       "    }\n",
       "</style>\n",
       "<table border=\"1\" class=\"dataframe\">\n",
       "  <thead>\n",
       "    <tr style=\"text-align: right;\">\n",
       "      <th></th>\n",
       "      <th>id</th>\n",
       "      <th>implant</th>\n",
       "      <th>date</th>\n",
       "      <th>article_nom</th>\n",
       "      <th>id_categorie_6</th>\n",
       "      <th>qte_article_vendue</th>\n",
       "      <th>id_categorie_5</th>\n",
       "      <th>id_categorie_4</th>\n",
       "      <th>cat6_nom</th>\n",
       "      <th>cat5_nom</th>\n",
       "      <th>cat4_nom</th>\n",
       "      <th>t_9h_rouen</th>\n",
       "      <th>n_9h_rouen</th>\n",
       "      <th>rr3_9h_rouen</th>\n",
       "      <th>ff_9h_rouen</th>\n",
       "      <th>t_15h_rouen</th>\n",
       "      <th>n_15h_rouen</th>\n",
       "      <th>rr3_15h_rouen</th>\n",
       "      <th>ff_15h_rouen</th>\n",
       "      <th>t_9h_paris</th>\n",
       "      <th>n_9h_paris</th>\n",
       "      <th>rr3_9h_paris</th>\n",
       "      <th>ff_9h_paris</th>\n",
       "      <th>t_15h_paris</th>\n",
       "      <th>n_15h_paris</th>\n",
       "      <th>rr3_15h_paris</th>\n",
       "      <th>ff_15h_paris</th>\n",
       "      <th>aller_zone_1</th>\n",
       "      <th>aller_zone_2</th>\n",
       "      <th>aller_zone_3</th>\n",
       "      <th>aller_zone_4</th>\n",
       "      <th>aller_zone_5</th>\n",
       "      <th>aller_zone_6</th>\n",
       "      <th>retour_zone_1</th>\n",
       "      <th>retour_zone_2</th>\n",
       "      <th>retour_zone_3</th>\n",
       "      <th>retour_zone_4</th>\n",
       "      <th>retour_zone_5</th>\n",
       "      <th>retour_zone_6</th>\n",
       "    </tr>\n",
       "  </thead>\n",
       "  <tbody>\n",
       "    <tr>\n",
       "      <th>0</th>\n",
       "      <td>39fc404102d5</td>\n",
       "      <td>NF059473</td>\n",
       "      <td>2016-01-01</td>\n",
       "      <td>Cookie Cara Noix Pecan 70G Michel Augustin</td>\n",
       "      <td>1001672</td>\n",
       "      <td>0,56</td>\n",
       "      <td>1001664</td>\n",
       "      <td>1001639</td>\n",
       "      <td>Patiss PréEmballé</td>\n",
       "      <td>Patisserie</td>\n",
       "      <td>Boulan Vienn Patiss</td>\n",
       "      <td>278,25</td>\n",
       "      <td>100,0</td>\n",
       "      <td>0,2</td>\n",
       "      <td>4,0</td>\n",
       "      <td>280,05</td>\n",
       "      <td>100,0</td>\n",
       "      <td>0,0</td>\n",
       "      <td>7,6</td>\n",
       "      <td>278,05</td>\n",
       "      <td>101,0</td>\n",
       "      <td>0,0</td>\n",
       "      <td>2,5</td>\n",
       "      <td>280,55</td>\n",
       "      <td>100,0</td>\n",
       "      <td>0,0</td>\n",
       "      <td>3,2</td>\n",
       "      <td>0</td>\n",
       "      <td>0</td>\n",
       "      <td>0</td>\n",
       "      <td>0</td>\n",
       "      <td>0</td>\n",
       "      <td>0</td>\n",
       "      <td>0</td>\n",
       "      <td>0</td>\n",
       "      <td>0</td>\n",
       "      <td>0</td>\n",
       "      <td>0</td>\n",
       "      <td>0</td>\n",
       "    </tr>\n",
       "    <tr>\n",
       "      <th>1</th>\n",
       "      <td>aa697ce32b43</td>\n",
       "      <td>NF059473</td>\n",
       "      <td>2016-01-01</td>\n",
       "      <td>Cookie Choc Blc 70G Michel Augustin</td>\n",
       "      <td>1001672</td>\n",
       "      <td>1,11</td>\n",
       "      <td>1001664</td>\n",
       "      <td>1001639</td>\n",
       "      <td>Patiss PréEmballé</td>\n",
       "      <td>Patisserie</td>\n",
       "      <td>Boulan Vienn Patiss</td>\n",
       "      <td>278,25</td>\n",
       "      <td>100,0</td>\n",
       "      <td>0,2</td>\n",
       "      <td>4,0</td>\n",
       "      <td>280,05</td>\n",
       "      <td>100,0</td>\n",
       "      <td>0,0</td>\n",
       "      <td>7,6</td>\n",
       "      <td>278,05</td>\n",
       "      <td>101,0</td>\n",
       "      <td>0,0</td>\n",
       "      <td>2,5</td>\n",
       "      <td>280,55</td>\n",
       "      <td>100,0</td>\n",
       "      <td>0,0</td>\n",
       "      <td>3,2</td>\n",
       "      <td>0</td>\n",
       "      <td>0</td>\n",
       "      <td>0</td>\n",
       "      <td>0</td>\n",
       "      <td>0</td>\n",
       "      <td>0</td>\n",
       "      <td>0</td>\n",
       "      <td>0</td>\n",
       "      <td>0</td>\n",
       "      <td>0</td>\n",
       "      <td>0</td>\n",
       "      <td>0</td>\n",
       "    </tr>\n",
       "    <tr>\n",
       "      <th>2</th>\n",
       "      <td>291a469e1b50</td>\n",
       "      <td>NF059473</td>\n",
       "      <td>2016-01-01</td>\n",
       "      <td>Cookie Choc Nois 70G Michel Augustin</td>\n",
       "      <td>1001672</td>\n",
       "      <td>0,56</td>\n",
       "      <td>1001664</td>\n",
       "      <td>1001639</td>\n",
       "      <td>Patiss PréEmballé</td>\n",
       "      <td>Patisserie</td>\n",
       "      <td>Boulan Vienn Patiss</td>\n",
       "      <td>278,25</td>\n",
       "      <td>100,0</td>\n",
       "      <td>0,2</td>\n",
       "      <td>4,0</td>\n",
       "      <td>280,05</td>\n",
       "      <td>100,0</td>\n",
       "      <td>0,0</td>\n",
       "      <td>7,6</td>\n",
       "      <td>278,05</td>\n",
       "      <td>101,0</td>\n",
       "      <td>0,0</td>\n",
       "      <td>2,5</td>\n",
       "      <td>280,55</td>\n",
       "      <td>100,0</td>\n",
       "      <td>0,0</td>\n",
       "      <td>3,2</td>\n",
       "      <td>0</td>\n",
       "      <td>0</td>\n",
       "      <td>0</td>\n",
       "      <td>0</td>\n",
       "      <td>0</td>\n",
       "      <td>0</td>\n",
       "      <td>0</td>\n",
       "      <td>0</td>\n",
       "      <td>0</td>\n",
       "      <td>0</td>\n",
       "      <td>0</td>\n",
       "      <td>0</td>\n",
       "    </tr>\n",
       "    <tr>\n",
       "      <th>3</th>\n",
       "      <td>2dbc07dbc8f0</td>\n",
       "      <td>NF059473</td>\n",
       "      <td>2016-01-01</td>\n",
       "      <td>Cookie Choco 70G Michel Augustin</td>\n",
       "      <td>1001672</td>\n",
       "      <td>0,56</td>\n",
       "      <td>1001664</td>\n",
       "      <td>1001639</td>\n",
       "      <td>Patiss PréEmballé</td>\n",
       "      <td>Patisserie</td>\n",
       "      <td>Boulan Vienn Patiss</td>\n",
       "      <td>278,25</td>\n",
       "      <td>100,0</td>\n",
       "      <td>0,2</td>\n",
       "      <td>4,0</td>\n",
       "      <td>280,05</td>\n",
       "      <td>100,0</td>\n",
       "      <td>0,0</td>\n",
       "      <td>7,6</td>\n",
       "      <td>278,05</td>\n",
       "      <td>101,0</td>\n",
       "      <td>0,0</td>\n",
       "      <td>2,5</td>\n",
       "      <td>280,55</td>\n",
       "      <td>100,0</td>\n",
       "      <td>0,0</td>\n",
       "      <td>3,2</td>\n",
       "      <td>0</td>\n",
       "      <td>0</td>\n",
       "      <td>0</td>\n",
       "      <td>0</td>\n",
       "      <td>0</td>\n",
       "      <td>0</td>\n",
       "      <td>0</td>\n",
       "      <td>0</td>\n",
       "      <td>0</td>\n",
       "      <td>0</td>\n",
       "      <td>0</td>\n",
       "      <td>0</td>\n",
       "    </tr>\n",
       "    <tr>\n",
       "      <th>4</th>\n",
       "      <td>e664714361d6</td>\n",
       "      <td>NF059473</td>\n",
       "      <td>2016-01-01</td>\n",
       "      <td>Croissant 60G Cuit/Place Neuhauser</td>\n",
       "      <td>1001674</td>\n",
       "      <td>4,08</td>\n",
       "      <td>1001665</td>\n",
       "      <td>1001639</td>\n",
       "      <td>Vienn cuit/place</td>\n",
       "      <td>Viennoiserie</td>\n",
       "      <td>Boulan Vienn Patiss</td>\n",
       "      <td>278,25</td>\n",
       "      <td>100,0</td>\n",
       "      <td>0,2</td>\n",
       "      <td>4,0</td>\n",
       "      <td>280,05</td>\n",
       "      <td>100,0</td>\n",
       "      <td>0,0</td>\n",
       "      <td>7,6</td>\n",
       "      <td>278,05</td>\n",
       "      <td>101,0</td>\n",
       "      <td>0,0</td>\n",
       "      <td>2,5</td>\n",
       "      <td>280,55</td>\n",
       "      <td>100,0</td>\n",
       "      <td>0,0</td>\n",
       "      <td>3,2</td>\n",
       "      <td>0</td>\n",
       "      <td>0</td>\n",
       "      <td>0</td>\n",
       "      <td>0</td>\n",
       "      <td>0</td>\n",
       "      <td>0</td>\n",
       "      <td>0</td>\n",
       "      <td>0</td>\n",
       "      <td>0</td>\n",
       "      <td>0</td>\n",
       "      <td>0</td>\n",
       "      <td>0</td>\n",
       "    </tr>\n",
       "  </tbody>\n",
       "</table>\n",
       "</div>"
      ],
      "text/plain": [
       "             id   implant        date  \\\n",
       "0  39fc404102d5  NF059473  2016-01-01   \n",
       "1  aa697ce32b43  NF059473  2016-01-01   \n",
       "2  291a469e1b50  NF059473  2016-01-01   \n",
       "3  2dbc07dbc8f0  NF059473  2016-01-01   \n",
       "4  e664714361d6  NF059473  2016-01-01   \n",
       "\n",
       "                                  article_nom  id_categorie_6  \\\n",
       "0  Cookie Cara Noix Pecan 70G Michel Augustin         1001672   \n",
       "1         Cookie Choc Blc 70G Michel Augustin         1001672   \n",
       "2        Cookie Choc Nois 70G Michel Augustin         1001672   \n",
       "3            Cookie Choco 70G Michel Augustin         1001672   \n",
       "4          Croissant 60G Cuit/Place Neuhauser         1001674   \n",
       "\n",
       "  qte_article_vendue  id_categorie_5  id_categorie_4           cat6_nom  \\\n",
       "0               0,56         1001664         1001639  Patiss PréEmballé   \n",
       "1               1,11         1001664         1001639  Patiss PréEmballé   \n",
       "2               0,56         1001664         1001639  Patiss PréEmballé   \n",
       "3               0,56         1001664         1001639  Patiss PréEmballé   \n",
       "4               4,08         1001665         1001639   Vienn cuit/place   \n",
       "\n",
       "       cat5_nom             cat4_nom t_9h_rouen n_9h_rouen rr3_9h_rouen  \\\n",
       "0    Patisserie  Boulan Vienn Patiss     278,25      100,0          0,2   \n",
       "1    Patisserie  Boulan Vienn Patiss     278,25      100,0          0,2   \n",
       "2    Patisserie  Boulan Vienn Patiss     278,25      100,0          0,2   \n",
       "3    Patisserie  Boulan Vienn Patiss     278,25      100,0          0,2   \n",
       "4  Viennoiserie  Boulan Vienn Patiss     278,25      100,0          0,2   \n",
       "\n",
       "  ff_9h_rouen t_15h_rouen n_15h_rouen rr3_15h_rouen ff_15h_rouen t_9h_paris  \\\n",
       "0         4,0      280,05       100,0           0,0          7,6     278,05   \n",
       "1         4,0      280,05       100,0           0,0          7,6     278,05   \n",
       "2         4,0      280,05       100,0           0,0          7,6     278,05   \n",
       "3         4,0      280,05       100,0           0,0          7,6     278,05   \n",
       "4         4,0      280,05       100,0           0,0          7,6     278,05   \n",
       "\n",
       "  n_9h_paris rr3_9h_paris ff_9h_paris t_15h_paris n_15h_paris rr3_15h_paris  \\\n",
       "0      101,0          0,0         2,5      280,55       100,0           0,0   \n",
       "1      101,0          0,0         2,5      280,55       100,0           0,0   \n",
       "2      101,0          0,0         2,5      280,55       100,0           0,0   \n",
       "3      101,0          0,0         2,5      280,55       100,0           0,0   \n",
       "4      101,0          0,0         2,5      280,55       100,0           0,0   \n",
       "\n",
       "  ff_15h_paris  aller_zone_1  aller_zone_2  aller_zone_3  aller_zone_4  \\\n",
       "0          3,2             0             0             0             0   \n",
       "1          3,2             0             0             0             0   \n",
       "2          3,2             0             0             0             0   \n",
       "3          3,2             0             0             0             0   \n",
       "4          3,2             0             0             0             0   \n",
       "\n",
       "   aller_zone_5  aller_zone_6  retour_zone_1  retour_zone_2  retour_zone_3  \\\n",
       "0             0             0              0              0              0   \n",
       "1             0             0              0              0              0   \n",
       "2             0             0              0              0              0   \n",
       "3             0             0              0              0              0   \n",
       "4             0             0              0              0              0   \n",
       "\n",
       "   retour_zone_4  retour_zone_5  retour_zone_6  \n",
       "0              0              0              0  \n",
       "1              0              0              0  \n",
       "2              0              0              0  \n",
       "3              0              0              0  \n",
       "4              0              0              0  "
      ]
     },
     "execution_count": 145,
     "metadata": {},
     "output_type": "execute_result"
    }
   ],
   "source": [
    "train_df.head(5)"
   ]
  },
  {
   "cell_type": "markdown",
   "metadata": {},
   "source": [
    "Name | Attribute type | domain | Roles | coments\n",
    "--- | --- | --- | --- | ---\n",
    "id | nominal| String | ID | Id in the dataset\n",
    "implant | nominal | String | pred | NF059473 --> Rouen's gas station and NF078544 --> Paris' gas station\n",
    "date | interval | Date (String) | pred | \"YYYY-MM-DD\", date when the item was sold\n",
    "article_nom | nominal | String | pred | name of the item\n",
    "qte_article_vendue | ratio | R>0 | target | number of item sold\n",
    "id_categorie_6 | nominal | N>0 | pred | Id linked to the name of the category (unicity of the value)\n",
    "id_categorie_5 | nominal | N>0 | pred | Id linked to the name of the category (unicity of the value)\n",
    "id_categorie_4 | nominal | N>0 | pred | Id linked to the name of the category (unicity of the value)\n",
    "cat6_nom | nominal | String | pred | cf ID\n",
    "cat5_nom | nominal | String | pred | cf ID\n",
    "cat4_nom | nominal | String | pred | cf ID\n",
    "t_9h_rouen | Ratio | R>0 | pred | Temperature in Rouen at 9 AM\n",
    "n_9h_rouen | Ratio | [0,100] | pred | Total nebulosity in Rouen at 9 AM (Nebulosity = Cloud cover)\n",
    "rr3_9h_rouen | Ratio | R>0 | pred | Rainfall in Rouen at 9 AM \n",
    "ff_9h_rouen | Ratio | R>0 | pred | Wind speed in Rouen at 9AM\n",
    "t_15h_rouen | Ratio | R>0 | pred | Temperature in Rouen at 3 PM\n",
    "n_15h_rouen | Ratio | [0,100] | pred | Total nebulosity in Rouen at 3 PM (Nebulosity = Cloud cover)\n",
    "rr3_15h_rouen | Ratio | R>0 | pred | Rainfall in Rouen at 3 PM \n",
    "ff_15h_rouen | Ratio | R>0 | pred | Wind speed in Rouen at 3 PM\n",
    "t_9h_paris | Ratio | R>0 | pred | Temperature in Paris at 9 AM\n",
    "n_9h_paris | Ratio | [0,100] | pred | Total nebulosity in Paris at 9 AM (Nebulosity = Cloud cover)\n",
    "rr3_9h_paris | Ratio | R>0 | pred | Rainfall in Paris at 9 AM \n",
    "ff_9h_paris | Ratio | R>0 | pred | Wind speed in Paris at 9 AM\n",
    "t_15h_paris | Ratio | R>0 | pred | Temperature in Paris at 3 PM\n",
    "n_15h_paris | Ratio | [0,100] | pred | Total nebulosity in Paris at 3 PM (Nebulosity = Cloud cover)\n",
    "rr3_15h_paris | Ratio | R>0 | pred | Rainfall in Paris at 3 PM \n",
    "ff_15h_paris | Ratio | R>0 | pred | Wind speed in Paris at 3 PM\n",
    "aller_zone_1 | ordinal | {0,1,2,3} | pred | Traffic from Paris inside the Zone 1 (Île-de-France)\n",
    "aller_zone_2 | ordinal | {0,1,2,3} | pred | Traffic from Paris inside the Zone 2 (Grand-Ouest et Nord)\n",
    "aller_zone_3 | ordinal | {0,1,2,3} | pred | Traffic from Paris inside the Zone 3 (Bourgogne et Est)\n",
    "aller_zone_4 | ordinal | {0,1,2,3} | pred | Traffic from Paris inside the Zone 4 (Auvergne-Rhône-Alpes)\n",
    "aller_zone_5 | ordinal | {0,1,2,3} | pred | Traffic from Paris inside the Zone 5 (Sud-Ouest)\n",
    "aller_zone_6 | ordinal | {0,1,2,3} | pred | Traffic from Paris inside the Zone 6 (Arc méditerranéen)\n",
    "retour_zone_1 | ordinal | {0,1,2,3} | pred | Traffic toward Paris from Zone 1 (Île-de-France)\n",
    "retour_zone_2 | ordinal | {0,1,2,3} | pred | Traffic toward Paris from Zone 2 (Grand-Ouest et Nord)\n",
    "retour_zone_3 | ordinal | {0,1,2,3} | pred | Traffic toward Paris from Zone 3 (Bourgogne et Est)\n",
    "retour_zone_4 | ordinal | {0,1,2,3} | pred | Traffic toward Paris from Zone 4 (Auvergne-Rhône-Alpes)\n",
    "retour_zone_5 | ordinal | {0,1,2,3} | pred | Traffic toward Paris from Zone 5 (Sud-Ouest)\n",
    "retour_zone_6 | ordinal | {0,1,2,3} | pred | Traffic toward Paris from Zone 6 (Arc méditerranéen)\n"
   ]
  },
  {
   "cell_type": "markdown",
   "metadata": {},
   "source": [
    "# Commentaire Réunion"
   ]
  },
  {
   "cell_type": "markdown",
   "metadata": {},
   "source": [
    "- Pourquoi la nébulosité est au dessus de 100 %\n",
    "- Pourquoi la précipitation peut être négative\n",
    "- Pourquoi la force du vent ne dépasse pas 30 Km/h\n",
    "- Quantité vendue"
   ]
  }
 ],
 "metadata": {
  "kernelspec": {
   "display_name": "Python 3",
   "language": "python",
   "name": "python3"
  },
  "language_info": {
   "codemirror_mode": {
    "name": "ipython",
    "version": 3
   },
   "file_extension": ".py",
   "mimetype": "text/x-python",
   "name": "python",
   "nbconvert_exporter": "python",
   "pygments_lexer": "ipython3",
   "version": "3.7.0"
  }
 },
 "nbformat": 4,
 "nbformat_minor": 2
}
